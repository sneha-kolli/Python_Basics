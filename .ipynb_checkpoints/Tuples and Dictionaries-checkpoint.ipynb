{
 "cells": [
  {
   "cell_type": "markdown",
   "id": "bc32cc75",
   "metadata": {},
   "source": [
    "# Tuples"
   ]
  },
  {
   "cell_type": "markdown",
   "id": "0a37b58b",
   "metadata": {},
   "source": [
    "It is a data structure in python which are represented using \"()\" and the values inside it are seperated with \",\" and they are \"immutable\"(unchangeable) and they are \"ordered\". it also allows \"Duplicates\"."
   ]
  },
  {
   "cell_type": "code",
   "execution_count": 171,
   "id": "de831a3e",
   "metadata": {},
   "outputs": [
    {
     "name": "stdout",
     "output_type": "stream",
     "text": [
      "()\n",
      "()\n",
      "('a', 'b', 'c')\n",
      "<class 'tuple'>\n",
      "<class 'tuple'>\n",
      "<class 'tuple'>\n"
     ]
    }
   ],
   "source": [
    "#creation of an empty tuple\n",
    "a = ()\n",
    "b = tuple()\n",
    "c = \"a\",\"b\",\"c\"\n",
    "print(a)\n",
    "print(b)\n",
    "print(c)\n",
    "print(type(a))\n",
    "print(type(b))\n",
    "print(type(c))"
   ]
  },
  {
   "cell_type": "markdown",
   "id": "e5130a30",
   "metadata": {},
   "source": [
    "# Count"
   ]
  },
  {
   "cell_type": "markdown",
   "id": "5779c0d0",
   "metadata": {},
   "source": [
    "It is a method which helps to returns the frequency of the of the specified value in the given tuple."
   ]
  },
  {
   "cell_type": "code",
   "execution_count": 172,
   "id": "c256729d",
   "metadata": {},
   "outputs": [
    {
     "name": "stdout",
     "output_type": "stream",
     "text": [
      "3\n"
     ]
    }
   ],
   "source": [
    "t1 = (\"AI&DS\",\"AI&ML\",\"CS\",\"CSE\",\"DS\",\"AI&DS\",\"AI&DS\",\"AI&ML\",\"CS\",\"CSE\",\"DS\")\n",
    "print(t1.count(\"AI&DS\"))"
   ]
  },
  {
   "cell_type": "markdown",
   "id": "ebfe40da",
   "metadata": {},
   "source": [
    "# Index"
   ]
  },
  {
   "cell_type": "markdown",
   "id": "add12982",
   "metadata": {},
   "source": [
    "It is a method that helps us to find out the index of the specified value in the given tuple."
   ]
  },
  {
   "cell_type": "code",
   "execution_count": 173,
   "id": "48958aff",
   "metadata": {},
   "outputs": [
    {
     "name": "stdout",
     "output_type": "stream",
     "text": [
      "2\n"
     ]
    }
   ],
   "source": [
    "print(t1.index(\"CS\"))"
   ]
  },
  {
   "cell_type": "code",
   "execution_count": 174,
   "id": "5906224c",
   "metadata": {},
   "outputs": [
    {
     "name": "stdout",
     "output_type": "stream",
     "text": [
      "0\n"
     ]
    }
   ],
   "source": [
    "print(t1.index(\"AI&DS\")) #as it is occuring 3 times it returns the first values index"
   ]
  },
  {
   "cell_type": "code",
   "execution_count": 175,
   "id": "ba337f87",
   "metadata": {},
   "outputs": [
    {
     "name": "stdout",
     "output_type": "stream",
     "text": [
      "5\n"
     ]
    }
   ],
   "source": [
    "print(t1.index(\"AI&DS\",2))# getting of the index of AI&DS after its 2nd occurence"
   ]
  },
  {
   "cell_type": "markdown",
   "id": "826f073f",
   "metadata": {},
   "source": [
    "# slicing"
   ]
  },
  {
   "cell_type": "code",
   "execution_count": 176,
   "id": "36534766",
   "metadata": {},
   "outputs": [
    {
     "name": "stdout",
     "output_type": "stream",
     "text": [
      "('AI&DS', 'AI&ML', 'CS', 'CSE', 'DS', 'AI&DS', 'AI&DS', 'AI&ML', 'CS', 'CSE', 'DS')\n"
     ]
    }
   ],
   "source": [
    "print(t1)"
   ]
  },
  {
   "cell_type": "code",
   "execution_count": 177,
   "id": "a0afe0f8",
   "metadata": {},
   "outputs": [
    {
     "data": {
      "text/plain": [
       "('AI&DS',\n",
       " 'AI&ML',\n",
       " 'CS',\n",
       " 'CSE',\n",
       " 'DS',\n",
       " 'AI&DS',\n",
       " 'AI&DS',\n",
       " 'AI&ML',\n",
       " 'CS',\n",
       " 'CSE',\n",
       " 'DS')"
      ]
     },
     "execution_count": 177,
     "metadata": {},
     "output_type": "execute_result"
    }
   ],
   "source": [
    "t1[:] # it prints the values from the beginning to the end."
   ]
  },
  {
   "cell_type": "code",
   "execution_count": 178,
   "id": "311c4798",
   "metadata": {},
   "outputs": [
    {
     "name": "stdout",
     "output_type": "stream",
     "text": [
      "('CS', 'DS', 'AI&DS')\n"
     ]
    }
   ],
   "source": [
    "print(t1[2:7:2]) # it prints the values from index 2 to 7 with step index 2"
   ]
  },
  {
   "cell_type": "code",
   "execution_count": 179,
   "id": "5bfb4758",
   "metadata": {},
   "outputs": [
    {
     "name": "stdout",
     "output_type": "stream",
     "text": [
      "('DS', 'CSE', 'CS', 'AI&ML', 'AI&DS', 'AI&DS', 'DS', 'CSE', 'CS', 'AI&ML', 'AI&DS')\n"
     ]
    }
   ],
   "source": [
    "print(t1[::-1]) # negative indexing can be used for slicing"
   ]
  },
  {
   "cell_type": "code",
   "execution_count": 180,
   "id": "4c9ad192",
   "metadata": {},
   "outputs": [
    {
     "name": "stdout",
     "output_type": "stream",
     "text": [
      "('AI&DS', 'CS', 'DS', 'AI&DS', 'CS', 'DS')\n"
     ]
    }
   ],
   "source": [
    "print(t1[-12::2])"
   ]
  },
  {
   "cell_type": "markdown",
   "id": "9fb1c415",
   "metadata": {},
   "source": [
    "# Indexing"
   ]
  },
  {
   "cell_type": "markdown",
   "id": "acb9c536",
   "metadata": {},
   "source": [
    "It is no different from accessing elements in a list.The index begins from 0 and goes till n-1."
   ]
  },
  {
   "cell_type": "code",
   "execution_count": 181,
   "id": "92186e85",
   "metadata": {},
   "outputs": [
    {
     "name": "stdout",
     "output_type": "stream",
     "text": [
      "DS\n"
     ]
    }
   ],
   "source": [
    "print(t1[4]) # it prints the item at index 4"
   ]
  },
  {
   "cell_type": "code",
   "execution_count": 182,
   "id": "d9f780b1",
   "metadata": {},
   "outputs": [
    {
     "name": "stdout",
     "output_type": "stream",
     "text": [
      "8\n"
     ]
    }
   ],
   "source": [
    "t2 = (\"Machine Learning\",(2,4,6,8),['A','G','H'])\n",
    "print(t2[1][3])"
   ]
  },
  {
   "cell_type": "markdown",
   "id": "90b0a6ae",
   "metadata": {},
   "source": [
    "# Other methods"
   ]
  },
  {
   "cell_type": "code",
   "execution_count": 183,
   "id": "5ae7807d",
   "metadata": {},
   "outputs": [
    {
     "name": "stdout",
     "output_type": "stream",
     "text": [
      "('A', 'B', 'C', 'D', 'E', 'F', 'G', 'H', 1, 2, 4)\n"
     ]
    }
   ],
   "source": [
    "#concatenation of two tuples\n",
    "t3 = \"A\",\"B\",\"C\",\"D\"\n",
    "t4 = \"E\",\"F\",\"G\",\"H\"\n",
    "print(t3+t4+(1,2,4))"
   ]
  },
  {
   "cell_type": "code",
   "execution_count": 184,
   "id": "d7082c6a",
   "metadata": {},
   "outputs": [
    {
     "name": "stdout",
     "output_type": "stream",
     "text": [
      "2\n",
      "(5, 8, 9, 27, 5, 8, 9, 27)\n"
     ]
    }
   ],
   "source": [
    "#repeating a tuple for required no of times\n",
    "t5 = (5,8,9,27)\n",
    "n = int(input())\n",
    "print(t5*n)"
   ]
  },
  {
   "cell_type": "code",
   "execution_count": 185,
   "id": "0aa705a1",
   "metadata": {},
   "outputs": [],
   "source": [
    "#del \n",
    "#it is not possible to use pop,remove methods on tuples as they are immutable but it is possible to delete the whole tuple.\n",
    "del t5"
   ]
  },
  {
   "cell_type": "code",
   "execution_count": 186,
   "id": "17f1972e",
   "metadata": {},
   "outputs": [
    {
     "ename": "NameError",
     "evalue": "name 't5' is not defined",
     "output_type": "error",
     "traceback": [
      "\u001b[1;31m---------------------------------------------------------------------------\u001b[0m",
      "\u001b[1;31mNameError\u001b[0m                                 Traceback (most recent call last)",
      "\u001b[1;32m<ipython-input-186-f4075879a366>\u001b[0m in \u001b[0;36m<module>\u001b[1;34m\u001b[0m\n\u001b[1;32m----> 1\u001b[1;33m \u001b[0mprint\u001b[0m\u001b[1;33m(\u001b[0m\u001b[0mt5\u001b[0m\u001b[1;33m)\u001b[0m \u001b[1;31m# it throws error as it got deleted\u001b[0m\u001b[1;33m\u001b[0m\u001b[1;33m\u001b[0m\u001b[0m\n\u001b[0m",
      "\u001b[1;31mNameError\u001b[0m: name 't5' is not defined"
     ]
    }
   ],
   "source": [
    "print(t5) # it throws error as it got deleted"
   ]
  },
  {
   "cell_type": "code",
   "execution_count": null,
   "id": "81e9a611",
   "metadata": {},
   "outputs": [],
   "source": [
    "#length -> it returns the length of the specified tuple\n",
    "print(len(t4))"
   ]
  },
  {
   "cell_type": "markdown",
   "id": "ebadd8e4",
   "metadata": {},
   "source": [
    "# Dictionary"
   ]
  },
  {
   "cell_type": "markdown",
   "id": "bcfd0150",
   "metadata": {},
   "source": [
    "It is a collection of key-value pairs which are immutable keys and it is ordered and doesn't allow duplicates .it is represented with \"{}\" and values inside it are seperated with \",\" and the key-value pairs are seperated using \":\"."
   ]
  },
  {
   "cell_type": "code",
   "execution_count": null,
   "id": "712a9af6",
   "metadata": {},
   "outputs": [],
   "source": [
    "#creating an empty tuple\n",
    "d1 = {}\n",
    "d2 = dict()\n",
    "print(d1)\n",
    "print(d2)\n",
    "print(type(d1))\n",
    "print(type(d2))"
   ]
  },
  {
   "cell_type": "markdown",
   "id": "7a7ee153",
   "metadata": {},
   "source": [
    "# Accessing Values"
   ]
  },
  {
   "cell_type": "code",
   "execution_count": null,
   "id": "f3b403e2",
   "metadata": {},
   "outputs": [],
   "source": [
    "data = {\"Name\":\"Arjun\",\"Age\":24,\"Gender\":\"M\"}\n",
    "print(data)"
   ]
  },
  {
   "cell_type": "code",
   "execution_count": null,
   "id": "2edcfd3d",
   "metadata": {},
   "outputs": [],
   "source": [
    "print(data[\"Age\"])"
   ]
  },
  {
   "cell_type": "code",
   "execution_count": null,
   "id": "75fbdb03",
   "metadata": {},
   "outputs": [],
   "source": [
    "data[\"Height\"] = 164 # as it is not present in the dicitonary it completely appends it.\n",
    "print(data)"
   ]
  },
  {
   "cell_type": "code",
   "execution_count": null,
   "id": "9a687f15",
   "metadata": {},
   "outputs": [],
   "source": [
    "data[\"Age\"] = 25\n",
    "print(data)"
   ]
  },
  {
   "cell_type": "code",
   "execution_count": null,
   "id": "f63f1045",
   "metadata": {},
   "outputs": [],
   "source": [
    "data[\"Name\"] = \"Sri,Krishna,Kumar,Arjun\" # inserting multiple values to a single key\n",
    "print(data)"
   ]
  },
  {
   "cell_type": "code",
   "execution_count": null,
   "id": "930953aa",
   "metadata": {},
   "outputs": [],
   "source": [
    "data[\"others\"] = {\"student\",\"employee\"} # add nested values\n",
    "data"
   ]
  },
  {
   "cell_type": "code",
   "execution_count": null,
   "id": "67243cb8",
   "metadata": {},
   "outputs": [],
   "source": [
    "#deleting\n",
    "#as we know that the dictionaries are immutable so it is not possible for us to alter the key values . but we can del the key entry.\n",
    "del data[\"others\"]"
   ]
  },
  {
   "cell_type": "code",
   "execution_count": null,
   "id": "7d811593",
   "metadata": {},
   "outputs": [],
   "source": [
    "print(data)"
   ]
  },
  {
   "cell_type": "code",
   "execution_count": null,
   "id": "1cfad5ad",
   "metadata": {},
   "outputs": [],
   "source": [
    "# clear method is used to remove all the key value pairs\n",
    "data.clear()\n",
    "print(data)"
   ]
  },
  {
   "cell_type": "markdown",
   "id": "721f1dcf",
   "metadata": {},
   "source": [
    "# Dictionary Comprehension"
   ]
  },
  {
   "cell_type": "code",
   "execution_count": null,
   "id": "3287120a",
   "metadata": {},
   "outputs": [],
   "source": [
    "#let's create a dictionary with key and its cubes\n",
    "d3  ={n:n**3 for n in range(1,6)}\n",
    "print(d3)"
   ]
  },
  {
   "cell_type": "code",
   "execution_count": null,
   "id": "8d73b237",
   "metadata": {},
   "outputs": [],
   "source": [
    "print(d3.keys())"
   ]
  },
  {
   "cell_type": "code",
   "execution_count": null,
   "id": "d2e6c1ab",
   "metadata": {},
   "outputs": [],
   "source": [
    "print(d3.values())"
   ]
  },
  {
   "cell_type": "markdown",
   "id": "ae417595",
   "metadata": {},
   "source": [
    "# Copy"
   ]
  },
  {
   "cell_type": "markdown",
   "id": "a8353375",
   "metadata": {},
   "source": [
    "It returns the copy of dictionary"
   ]
  },
  {
   "cell_type": "code",
   "execution_count": null,
   "id": "9bad08a2",
   "metadata": {},
   "outputs": [],
   "source": [
    "d4 = {x:x*x for x in range(6,10)}\n",
    "print(d4.copy())"
   ]
  },
  {
   "cell_type": "markdown",
   "id": "8dc5ac17",
   "metadata": {},
   "source": [
    "# Pop"
   ]
  },
  {
   "cell_type": "markdown",
   "id": "d384d625",
   "metadata": {},
   "source": [
    "It removes the specified element at the given key value"
   ]
  },
  {
   "cell_type": "code",
   "execution_count": null,
   "id": "0e52eeba",
   "metadata": {},
   "outputs": [],
   "source": [
    "d4.pop(7)\n",
    "print(d4)"
   ]
  },
  {
   "cell_type": "markdown",
   "id": "6da11780",
   "metadata": {},
   "source": [
    "# update"
   ]
  },
  {
   "cell_type": "markdown",
   "id": "d8d84d5c",
   "metadata": {},
   "source": [
    "It adds the content in one dictionary to another dictionary\n"
   ]
  },
  {
   "cell_type": "code",
   "execution_count": 187,
   "id": "ef7224b8",
   "metadata": {},
   "outputs": [
    {
     "name": "stdout",
     "output_type": "stream",
     "text": [
      "{1: 1, 2: 4, 3: 27, 4: 16, 5: 25, 6: 36, 8: 64, 9: 81}\n"
     ]
    }
   ],
   "source": [
    "d3.update(d4)\n",
    "print(d3)"
   ]
  }
 ],
 "metadata": {
  "kernelspec": {
   "display_name": "Python 3",
   "language": "python",
   "name": "python3"
  },
  "language_info": {
   "codemirror_mode": {
    "name": "ipython",
    "version": 3
   },
   "file_extension": ".py",
   "mimetype": "text/x-python",
   "name": "python",
   "nbconvert_exporter": "python",
   "pygments_lexer": "ipython3",
   "version": "3.8.8"
  }
 },
 "nbformat": 4,
 "nbformat_minor": 5
}
