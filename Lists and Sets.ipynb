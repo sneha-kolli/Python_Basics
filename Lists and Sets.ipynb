{
 "cells": [
  {
   "cell_type": "markdown",
   "id": "702e5fb1",
   "metadata": {},
   "source": [
    "# Lists"
   ]
  },
  {
   "cell_type": "markdown",
   "id": "30921d39",
   "metadata": {},
   "source": [
    "List is a data structure in python which is represented with square braces ([ ]) and values inside it are separated with commas(,) and it can be of any length. Lists are \"mutable\" (changeable). It allows \"Duplicates\". They are \"ordered\"."
   ]
  },
  {
   "cell_type": "code",
   "execution_count": 83,
   "id": "c87c9968",
   "metadata": {},
   "outputs": [],
   "source": [
    "#creation of empty list \n",
    "list_1 = list()\n",
    "list_2 = []"
   ]
  },
  {
   "cell_type": "markdown",
   "id": "252fdadd",
   "metadata": {},
   "source": [
    "Manipulations that we can perform on the lists are called as \"methods\".Few of them are Listed below."
   ]
  },
  {
   "cell_type": "markdown",
   "id": "082042a5",
   "metadata": {},
   "source": [
    "# Append"
   ]
  },
  {
   "cell_type": "markdown",
   "id": "f9ec5d51",
   "metadata": {},
   "source": [
    "It is a method used to insert the new value at the end of the list."
   ]
  },
  {
   "cell_type": "code",
   "execution_count": 84,
   "id": "640463f0",
   "metadata": {},
   "outputs": [
    {
     "name": "stdout",
     "output_type": "stream",
     "text": [
      "['potato', 'capsicum', 'carrot']\n",
      "['potato', 'capsicum', 'carrot', 'tomato']\n"
     ]
    }
   ],
   "source": [
    "veggies = [\"potato\",\"capsicum\",\"carrot\"]\n",
    "print(veggies)\n",
    "veggies.append(\"tomato\")\n",
    "print(veggies)"
   ]
  },
  {
   "cell_type": "markdown",
   "id": "f6222412",
   "metadata": {},
   "source": [
    "# Extend"
   ]
  },
  {
   "cell_type": "markdown",
   "id": "ae874014",
   "metadata": {},
   "source": [
    "It is quite similar to append but extend() method allows you to add all the elements from other iterable(list,tuple,set,etc) at the end of current list as seperate elements instead of one."
   ]
  },
  {
   "cell_type": "code",
   "execution_count": 85,
   "id": "76bda035",
   "metadata": {},
   "outputs": [
    {
     "name": "stdout",
     "output_type": "stream",
     "text": [
      "['potato', 'capsicum', 'carrot', 'tomato']\n",
      "['potato', 'capsicum', 'carrot', 'tomato', ['chilli', 'spinach']]\n"
     ]
    }
   ],
   "source": [
    "print(veggies)\n",
    "veggies.append([\"chilli\",\"spinach\"])\n",
    "print(veggies)"
   ]
  },
  {
   "cell_type": "code",
   "execution_count": 86,
   "id": "efd6f9a1",
   "metadata": {},
   "outputs": [
    {
     "name": "stdout",
     "output_type": "stream",
     "text": [
      "['potato', 'capsicum', 'carrot', 'tomato', ['chilli', 'spinach']]\n",
      "['potato', 'capsicum', 'carrot', 'tomato', ['chilli', 'spinach'], 'onion', 'garlic']\n"
     ]
    }
   ],
   "source": [
    "print(veggies)\n",
    "veggies.extend([\"onion\",\"garlic\"])\n",
    "print(veggies)"
   ]
  },
  {
   "cell_type": "markdown",
   "id": "c6e4615f",
   "metadata": {},
   "source": [
    "In the above example we can clearly see the difference between the append() and extend()"
   ]
  },
  {
   "cell_type": "markdown",
   "id": "353cb7d6",
   "metadata": {},
   "source": [
    "# Pop"
   ]
  },
  {
   "cell_type": "markdown",
   "id": "b9843590",
   "metadata": {},
   "source": [
    "it is a method that allows you to remove a specific element."
   ]
  },
  {
   "cell_type": "code",
   "execution_count": 87,
   "id": "cedff8a5",
   "metadata": {},
   "outputs": [
    {
     "name": "stdout",
     "output_type": "stream",
     "text": [
      "['potato', 'capsicum', 'carrot', 'tomato', ['chilli', 'spinach'], 'onion', 'garlic']\n"
     ]
    }
   ],
   "source": [
    "print(veggies)"
   ]
  },
  {
   "cell_type": "code",
   "execution_count": 88,
   "id": "e41ac768",
   "metadata": {},
   "outputs": [
    {
     "data": {
      "text/plain": [
       "'carrot'"
      ]
     },
     "execution_count": 88,
     "metadata": {},
     "output_type": "execute_result"
    }
   ],
   "source": [
    "veggies.pop(2) # as an output it prints the removed item"
   ]
  },
  {
   "cell_type": "code",
   "execution_count": 89,
   "id": "a0c09df7",
   "metadata": {},
   "outputs": [
    {
     "name": "stdout",
     "output_type": "stream",
     "text": [
      "['potato', 'capsicum', 'tomato', ['chilli', 'spinach'], 'onion', 'garlic']\n"
     ]
    }
   ],
   "source": [
    "print(veggies)"
   ]
  },
  {
   "cell_type": "code",
   "execution_count": 90,
   "id": "97cb4089",
   "metadata": {},
   "outputs": [
    {
     "data": {
      "text/plain": [
       "'garlic'"
      ]
     },
     "execution_count": 90,
     "metadata": {},
     "output_type": "execute_result"
    }
   ],
   "source": [
    "veggies.pop() # by default it removes the last value i.e, it takes the index as -1"
   ]
  },
  {
   "cell_type": "code",
   "execution_count": 91,
   "id": "4f263504",
   "metadata": {},
   "outputs": [
    {
     "name": "stdout",
     "output_type": "stream",
     "text": [
      "['potato', 'capsicum', 'tomato', ['chilli', 'spinach'], 'onion']\n"
     ]
    }
   ],
   "source": [
    "print(veggies)"
   ]
  },
  {
   "cell_type": "markdown",
   "id": "e2504a6e",
   "metadata": {},
   "source": [
    "# Remove"
   ]
  },
  {
   "cell_type": "markdown",
   "id": "08cc1f8f",
   "metadata": {},
   "source": [
    "it is a method which is similar to pop() method . It removes the first occurrence of a specified item in a list."
   ]
  },
  {
   "cell_type": "code",
   "execution_count": 92,
   "id": "37cb7954",
   "metadata": {},
   "outputs": [],
   "source": [
    "veggies.remove(\"tomato\") # it doesn't print any output of the removed variable"
   ]
  },
  {
   "cell_type": "code",
   "execution_count": 93,
   "id": "2d9105db",
   "metadata": {},
   "outputs": [
    {
     "name": "stdout",
     "output_type": "stream",
     "text": [
      "['potato', 'capsicum', ['chilli', 'spinach'], 'onion']\n"
     ]
    }
   ],
   "source": [
    "print(veggies)"
   ]
  },
  {
   "cell_type": "markdown",
   "id": "085eceb1",
   "metadata": {},
   "source": [
    "# Sort"
   ]
  },
  {
   "cell_type": "markdown",
   "id": "b6f8506d",
   "metadata": {},
   "source": [
    "From the name itself we can say that it is used to sort the values in the list based on the criteria."
   ]
  },
  {
   "cell_type": "code",
   "execution_count": 94,
   "id": "ee3d7072",
   "metadata": {},
   "outputs": [
    {
     "name": "stdout",
     "output_type": "stream",
     "text": [
      "[4000, 2300, 73000, 6790, 48567, 4214, 52667]\n"
     ]
    }
   ],
   "source": [
    "ranks = [4000,2300,73000,6790,48567,4214,52667]\n",
    "print(ranks)"
   ]
  },
  {
   "cell_type": "code",
   "execution_count": 95,
   "id": "4f06dd5f",
   "metadata": {},
   "outputs": [
    {
     "name": "stdout",
     "output_type": "stream",
     "text": [
      "[2300, 4000, 4214, 6790, 48567, 52667, 73000]\n"
     ]
    }
   ],
   "source": [
    "ranks.sort() # by default it sorts in ascending order\n",
    "print(ranks)"
   ]
  },
  {
   "cell_type": "code",
   "execution_count": 96,
   "id": "7934a23f",
   "metadata": {},
   "outputs": [
    {
     "name": "stdout",
     "output_type": "stream",
     "text": [
      "[73000, 52667, 48567, 6790, 4214, 4000, 2300]\n"
     ]
    }
   ],
   "source": [
    "ranks.sort(reverse=True)\n",
    "print(ranks)# to print the values in the descending order we need to make the parameter reverse = True"
   ]
  },
  {
   "cell_type": "markdown",
   "id": "d7fd6ffb",
   "metadata": {},
   "source": [
    "It does work for the strings"
   ]
  },
  {
   "cell_type": "code",
   "execution_count": 97,
   "id": "cf1f1e20",
   "metadata": {},
   "outputs": [
    {
     "name": "stdout",
     "output_type": "stream",
     "text": [
      "['Aakash', 'Zakir', 'Sabudh', 'Kiran', 'Vishal']\n"
     ]
    }
   ],
   "source": [
    "names = [\"Aakash\",\"Zakir\",\"Sabudh\",\"Kiran\",\"Vishal\"]\n",
    "print(names)"
   ]
  },
  {
   "cell_type": "code",
   "execution_count": 98,
   "id": "6fbacd51",
   "metadata": {},
   "outputs": [
    {
     "name": "stdout",
     "output_type": "stream",
     "text": [
      "['Aakash', 'Kiran', 'Sabudh', 'Vishal', 'Zakir']\n"
     ]
    }
   ],
   "source": [
    "names.sort()\n",
    "print(names)"
   ]
  },
  {
   "cell_type": "code",
   "execution_count": 99,
   "id": "efeb83c4",
   "metadata": {},
   "outputs": [
    {
     "name": "stdout",
     "output_type": "stream",
     "text": [
      "['Zakir', 'Vishal', 'Sabudh', 'Kiran', 'Aakash']\n"
     ]
    }
   ],
   "source": [
    "names.sort(reverse=True)\n",
    "print(names)"
   ]
  },
  {
   "cell_type": "markdown",
   "id": "408b13e5",
   "metadata": {},
   "source": [
    "# Reverse"
   ]
  },
  {
   "cell_type": "markdown",
   "id": "74e74f9f",
   "metadata": {},
   "source": [
    "It basically reverses the order of the items in the list"
   ]
  },
  {
   "cell_type": "code",
   "execution_count": 100,
   "id": "6ef59665",
   "metadata": {},
   "outputs": [
    {
     "name": "stdout",
     "output_type": "stream",
     "text": [
      "['Zakir', 'Vishal', 'Sabudh', 'Kiran', 'Aakash']\n"
     ]
    }
   ],
   "source": [
    "print(names)"
   ]
  },
  {
   "cell_type": "code",
   "execution_count": 101,
   "id": "f75f04d3",
   "metadata": {},
   "outputs": [
    {
     "name": "stdout",
     "output_type": "stream",
     "text": [
      "['Aakash', 'Kiran', 'Sabudh', 'Vishal', 'Zakir']\n"
     ]
    }
   ],
   "source": [
    "names.reverse()\n",
    "print(names)"
   ]
  },
  {
   "cell_type": "markdown",
   "id": "5dd72cff",
   "metadata": {},
   "source": [
    "# Count"
   ]
  },
  {
   "cell_type": "markdown",
   "id": "3a3ee3e7",
   "metadata": {},
   "source": [
    "this method helps us to find the frequency of a specific element in the list"
   ]
  },
  {
   "cell_type": "code",
   "execution_count": 102,
   "id": "a491edf5",
   "metadata": {},
   "outputs": [
    {
     "name": "stdout",
     "output_type": "stream",
     "text": [
      "['A', 'E', 'P', 'L', 'A', 'T', 'Q', 'G', 'A']\n"
     ]
    }
   ],
   "source": [
    "alphabets = ['A','E','P','L','A','T','Q','G','A']\n",
    "print(alphabets)"
   ]
  },
  {
   "cell_type": "code",
   "execution_count": 103,
   "id": "ecbf385b",
   "metadata": {},
   "outputs": [
    {
     "data": {
      "text/plain": [
       "3"
      ]
     },
     "execution_count": 103,
     "metadata": {},
     "output_type": "execute_result"
    }
   ],
   "source": [
    "alphabets.count(\"A\")"
   ]
  },
  {
   "cell_type": "code",
   "execution_count": 104,
   "id": "dd95ba21",
   "metadata": {},
   "outputs": [
    {
     "data": {
      "text/plain": [
       "0"
      ]
     },
     "execution_count": 104,
     "metadata": {},
     "output_type": "execute_result"
    }
   ],
   "source": [
    "alphabets.count(\"D\")"
   ]
  },
  {
   "cell_type": "markdown",
   "id": "39bcd93b",
   "metadata": {},
   "source": [
    "# Index"
   ]
  },
  {
   "cell_type": "markdown",
   "id": "42605c06",
   "metadata": {},
   "source": [
    "It is a method that returns the index of the first occurrence of the specified element"
   ]
  },
  {
   "cell_type": "code",
   "execution_count": 105,
   "id": "ca5e7e73",
   "metadata": {},
   "outputs": [
    {
     "name": "stdout",
     "output_type": "stream",
     "text": [
      "['A', 'E', 'P', 'L', 'A', 'T', 'Q', 'G', 'A']\n"
     ]
    }
   ],
   "source": [
    "print(alphabets)"
   ]
  },
  {
   "cell_type": "code",
   "execution_count": 106,
   "id": "33452501",
   "metadata": {},
   "outputs": [
    {
     "data": {
      "text/plain": [
       "0"
      ]
     },
     "execution_count": 106,
     "metadata": {},
     "output_type": "execute_result"
    }
   ],
   "source": [
    "alphabets.index(\"A\") #as the first A is present at 0th index"
   ]
  },
  {
   "cell_type": "code",
   "execution_count": 107,
   "id": "df0d37aa",
   "metadata": {},
   "outputs": [
    {
     "data": {
      "text/plain": [
       "7"
      ]
     },
     "execution_count": 107,
     "metadata": {},
     "output_type": "execute_result"
    }
   ],
   "source": [
    "alphabets.index(\"G\")"
   ]
  },
  {
   "cell_type": "markdown",
   "id": "1d322a8b",
   "metadata": {},
   "source": [
    "# Sets"
   ]
  },
  {
   "cell_type": "markdown",
   "id": "bcc489e1",
   "metadata": {},
   "source": [
    "It is a data structure in python which is represented with curly braces({ }) and the values inside it are represented with commas (,). It is \"ordered\" and it is \"mutable\"(Changeable) and \"doesn't allow duplicates\"."
   ]
  },
  {
   "cell_type": "code",
   "execution_count": 108,
   "id": "9889d9b5",
   "metadata": {},
   "outputs": [],
   "source": [
    "#creation of empty set\n",
    "set_1 = set()\n",
    "set_2 = {}"
   ]
  },
  {
   "cell_type": "code",
   "execution_count": 109,
   "id": "44347f6c",
   "metadata": {},
   "outputs": [
    {
     "name": "stdout",
     "output_type": "stream",
     "text": [
      "{'Vishal', 'Zakir', 'Sabudh', 'Kiran', 'Aakash'}\n"
     ]
    }
   ],
   "source": [
    "#creating a set from\n",
    "#list\n",
    "print(set([\"Aakash\",\"Zakir\",\"Sabudh\",\"Kiran\",\"Vishal\"]))"
   ]
  },
  {
   "cell_type": "code",
   "execution_count": 110,
   "id": "59bc038f",
   "metadata": {},
   "outputs": [
    {
     "name": "stdout",
     "output_type": "stream",
     "text": [
      "{'Y', 'T', 'P', 'N', 'O', 'H'}\n"
     ]
    }
   ],
   "source": [
    "#string\n",
    "print(set(\"PYTHON\"))"
   ]
  },
  {
   "cell_type": "code",
   "execution_count": 111,
   "id": "2b82aa69",
   "metadata": {},
   "outputs": [
    {
     "name": "stdout",
     "output_type": "stream",
     "text": [
      "{'Vishal', 'Zakir', 'Sabudh', 'Kiran', 'Aakash'}\n"
     ]
    }
   ],
   "source": [
    "#tuple\n",
    "print(set((\"Aakash\",\"Zakir\",\"Sabudh\",\"Kiran\",\"Vishal\")))"
   ]
  },
  {
   "cell_type": "code",
   "execution_count": 112,
   "id": "308a3507",
   "metadata": {},
   "outputs": [
    {
     "name": "stdout",
     "output_type": "stream",
     "text": [
      "{'sumanth', 'akhil', 'rahul', 'vicky'}\n"
     ]
    }
   ],
   "source": [
    "#dictionary\n",
    "print(set({'akhil':1,'sumanth':2,'vicky':3,'rahul':4,'rahul':5}))"
   ]
  },
  {
   "cell_type": "markdown",
   "id": "edb012eb",
   "metadata": {},
   "source": [
    "methods that can be applied on the sets are listed below:"
   ]
  },
  {
   "cell_type": "markdown",
   "id": "1f6f8638",
   "metadata": {},
   "source": [
    "# Add()"
   ]
  },
  {
   "cell_type": "markdown",
   "id": "9a7fcf80",
   "metadata": {},
   "source": [
    "it is a method that helps us to add the item into the set and it doesn't add the item if it is already present in the set."
   ]
  },
  {
   "cell_type": "code",
   "execution_count": 113,
   "id": "84a66fa2",
   "metadata": {},
   "outputs": [
    {
     "name": "stdout",
     "output_type": "stream",
     "text": [
      "{'Maharastra', 'Karnataka', 'Andhra Pradesh', 'Arunachal Pradesh', 'Jammu & Kashmir'}\n"
     ]
    }
   ],
   "source": [
    "states = {\"Andhra Pradesh\",\"Arunachal Pradesh\",\"Jammu & Kashmir\",\"Maharastra\",\"Karnataka\"}\n",
    "print(states)"
   ]
  },
  {
   "cell_type": "code",
   "execution_count": 114,
   "id": "1ed7b14a",
   "metadata": {},
   "outputs": [
    {
     "name": "stdout",
     "output_type": "stream",
     "text": [
      "{'Maharastra', 'Karnataka', 'Kerala', 'Andhra Pradesh', 'Arunachal Pradesh', 'Jammu & Kashmir'}\n"
     ]
    }
   ],
   "source": [
    "states.add(\"Kerala\")\n",
    "print(states)"
   ]
  },
  {
   "cell_type": "code",
   "execution_count": 115,
   "id": "8c0c89f6",
   "metadata": {},
   "outputs": [
    {
     "name": "stdout",
     "output_type": "stream",
     "text": [
      "{'Maharastra', 'Karnataka', 'Kerala', 'Andhra Pradesh', 'Arunachal Pradesh', 'Jammu & Kashmir'}\n"
     ]
    }
   ],
   "source": [
    "states.add(\"Arunachal Pradesh\") # doesn't add\n",
    "print(states)"
   ]
  },
  {
   "cell_type": "markdown",
   "id": "3fafe6e1",
   "metadata": {},
   "source": [
    "# Remove"
   ]
  },
  {
   "cell_type": "markdown",
   "id": "84330bb7",
   "metadata": {},
   "source": [
    "it does work the same as how it works for list."
   ]
  },
  {
   "cell_type": "code",
   "execution_count": 116,
   "id": "edb9a522",
   "metadata": {},
   "outputs": [
    {
     "name": "stdout",
     "output_type": "stream",
     "text": [
      "{'Maharastra', 'Karnataka', 'Kerala', 'Andhra Pradesh', 'Arunachal Pradesh'}\n"
     ]
    }
   ],
   "source": [
    "states.remove(\"Jammu & Kashmir\")\n",
    "print(states)"
   ]
  },
  {
   "cell_type": "markdown",
   "id": "f9717953",
   "metadata": {},
   "source": [
    "# Pop"
   ]
  },
  {
   "cell_type": "code",
   "execution_count": 117,
   "id": "e9dc92a7",
   "metadata": {},
   "outputs": [
    {
     "data": {
      "text/plain": [
       "'Maharastra'"
      ]
     },
     "execution_count": 117,
     "metadata": {},
     "output_type": "execute_result"
    }
   ],
   "source": [
    "states.pop()"
   ]
  },
  {
   "cell_type": "code",
   "execution_count": null,
   "id": "40ccc5f2",
   "metadata": {},
   "outputs": [],
   "source": []
  }
 ],
 "metadata": {
  "kernelspec": {
   "display_name": "Python 3",
   "language": "python",
   "name": "python3"
  },
  "language_info": {
   "codemirror_mode": {
    "name": "ipython",
    "version": 3
   },
   "file_extension": ".py",
   "mimetype": "text/x-python",
   "name": "python",
   "nbconvert_exporter": "python",
   "pygments_lexer": "ipython3",
   "version": "3.8.8"
  }
 },
 "nbformat": 4,
 "nbformat_minor": 5
}
