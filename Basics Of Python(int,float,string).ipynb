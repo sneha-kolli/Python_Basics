{
 "cells": [
  {
   "cell_type": "markdown",
   "id": "f48d036a",
   "metadata": {},
   "source": [
    "# How to take input in python?"
   ]
  },
  {
   "cell_type": "markdown",
   "id": "3692bfb7",
   "metadata": {},
   "source": [
    " we have two ways to read input from the user namely input() and raw_input()"
   ]
  },
  {
   "cell_type": "markdown",
   "id": "bf18db29",
   "metadata": {},
   "source": [
    "# Then what is the difference between them?"
   ]
  },
  {
   "cell_type": "markdown",
   "id": "0e7a4079",
   "metadata": {},
   "source": [
    "the difference is very simple the raw_input() takes input and always returns string where as input() takes input and can return any type like list,tuple,etc."
   ]
  },
  {
   "cell_type": "code",
   "execution_count": 2,
   "id": "40eb67c4",
   "metadata": {},
   "outputs": [
    {
     "ename": "NameError",
     "evalue": "name 'raw_input' is not defined",
     "output_type": "error",
     "traceback": [
      "\u001b[1;31m---------------------------------------------------------------------------\u001b[0m",
      "\u001b[1;31mNameError\u001b[0m                                 Traceback (most recent call last)",
      "\u001b[1;32m<ipython-input-2-eeaefac22af5>\u001b[0m in \u001b[0;36m<module>\u001b[1;34m\u001b[0m\n\u001b[1;32m----> 1\u001b[1;33m \u001b[0mcollege\u001b[0m \u001b[1;33m=\u001b[0m \u001b[0mraw_input\u001b[0m\u001b[1;33m(\u001b[0m\u001b[1;34m\"enter your college name=\"\u001b[0m\u001b[1;33m)\u001b[0m\u001b[1;33m\u001b[0m\u001b[1;33m\u001b[0m\u001b[0m\n\u001b[0m\u001b[0;32m      2\u001b[0m \u001b[0mprint\u001b[0m\u001b[1;33m(\u001b[0m\u001b[0mcollege\u001b[0m\u001b[1;33m)\u001b[0m\u001b[1;33m\u001b[0m\u001b[1;33m\u001b[0m\u001b[0m\n",
      "\u001b[1;31mNameError\u001b[0m: name 'raw_input' is not defined"
     ]
    }
   ],
   "source": [
    "college = raw_input(\"enter your college name=\")\n",
    "print(college)"
   ]
  },
  {
   "cell_type": "code",
   "execution_count": 3,
   "id": "1f33d29e",
   "metadata": {},
   "outputs": [
    {
     "name": "stdout",
     "output_type": "stream",
     "text": [
      "enter your college name=SVECW\n",
      "SVECW\n"
     ]
    }
   ],
   "source": [
    "college = input(\"enter your college name=\")\n",
    "print(college)"
   ]
  },
  {
   "cell_type": "markdown",
   "id": "63d89782",
   "metadata": {},
   "source": [
    "Did You observe an error while writing raw_input in the above cells? it is because the raw_input() is used to take input in python2 version and now it is taken or renamed as input() in python3 version. Therefore,it throws error as we are working in version 3.\n"
   ]
  },
  {
   "cell_type": "markdown",
   "id": "56c96843",
   "metadata": {},
   "source": [
    "# Placeholders"
   ]
  },
  {
   "cell_type": "markdown",
   "id": "4d452967",
   "metadata": {},
   "source": [
    "It is word,characters,set of characters to hold them in a temporary place."
   ]
  },
  {
   "cell_type": "code",
   "execution_count": 9,
   "id": "2ac99b3b",
   "metadata": {},
   "outputs": [
    {
     "name": "stdout",
     "output_type": "stream",
     "text": [
      "%s i'm going to explain python \n",
      "<class 'str'>\n"
     ]
    }
   ],
   "source": [
    "eg = \"%s i'm going to explain python \"\n",
    "print(eg)\n",
    "print(type(eg))# type() is used to get the type of the variable"
   ]
  },
  {
   "cell_type": "code",
   "execution_count": 11,
   "id": "f2ab5dfc",
   "metadata": {},
   "outputs": [
    {
     "name": "stdout",
     "output_type": "stream",
     "text": [
      "Greetings everyone\n"
     ]
    }
   ],
   "source": [
    "new_ = \"Greetings everyone\"\n",
    "print(new_)"
   ]
  },
  {
   "cell_type": "code",
   "execution_count": 12,
   "id": "aa454997",
   "metadata": {},
   "outputs": [
    {
     "name": "stdout",
     "output_type": "stream",
     "text": [
      "Greetings everyone i'm going to explain python \n"
     ]
    }
   ],
   "source": [
    "print(eg%new_) "
   ]
  },
  {
   "cell_type": "markdown",
   "id": "a15c2842",
   "metadata": {},
   "source": [
    "From above example we can say that the placeholder can be replaced by another value or the static value itself."
   ]
  },
  {
   "cell_type": "markdown",
   "id": "e0e412d7",
   "metadata": {},
   "source": [
    "there %s is a string placeholder. similarly we can use %d for any numerical value."
   ]
  },
  {
   "cell_type": "code",
   "execution_count": 16,
   "id": "6033544b",
   "metadata": {},
   "outputs": [
    {
     "name": "stdout",
     "output_type": "stream",
     "text": [
      "hello guys!! we are going to learn %d topics today\n",
      "8\n",
      "hello guys!! we are going to learn 8 topics today\n"
     ]
    }
   ],
   "source": [
    "eg1 = \"hello guys!! we are going to learn %d topics today\"\n",
    "print(eg1)\n",
    "new1_ = 8\n",
    "print(new1_)\n",
    "print(eg1%new1_)\n"
   ]
  },
  {
   "cell_type": "markdown",
   "id": "6309e4f4",
   "metadata": {},
   "source": [
    "The point is we can have any no of placeholders in a input. for that we need to pass multiple values ."
   ]
  },
  {
   "cell_type": "code",
   "execution_count": 17,
   "id": "cd5f1df2",
   "metadata": {},
   "outputs": [
    {
     "name": "stdout",
     "output_type": "stream",
     "text": [
      "%d no of students cleared the exam conducted by %s\n",
      "40 no of students cleared the exam conducted by Adobe\n"
     ]
    }
   ],
   "source": [
    "eg2 = \"%d no of students cleared the exam conducted by %s\"\n",
    "print(eg2)\n",
    "print(eg2%(40,\"Adobe\"))"
   ]
  },
  {
   "cell_type": "markdown",
   "id": "ef386f72",
   "metadata": {},
   "source": [
    "It can be applied in this manner also:\n"
   ]
  },
  {
   "cell_type": "markdown",
   "id": "9fb4df99",
   "metadata": {},
   "source": [
    "the format method helps to place the specified values and inserts them inside string's placeholder"
   ]
  },
  {
   "cell_type": "markdown",
   "id": "aa239002",
   "metadata": {},
   "source": [
    "Syntax : string.format(value1,value2.....valuen)"
   ]
  },
  {
   "cell_type": "code",
   "execution_count": 19,
   "id": "9d218da8",
   "metadata": {},
   "outputs": [
    {
     "name": "stdout",
     "output_type": "stream",
     "text": [
      "enter your college name =BVRIT\n",
      "enter your branch name=CSE\n",
      "enter the place=Bhimavaram\n",
      "the student is from  BVRIT college and from CSE department and it is in Bhimavaram.\n"
     ]
    }
   ],
   "source": [
    "name = input(\"enter your college name =\")\n",
    "branch = input(\"enter your branch name=\")\n",
    "place = input(\"enter the place=\")\n",
    "data = \"the student is from  {0} college and from {1} department and it is in {2}.\".format(name,branch,place)\n",
    "print(data)"
   ]
  },
  {
   "cell_type": "markdown",
   "id": "bdba335c",
   "metadata": {},
   "source": [
    "It can also represented as:"
   ]
  },
  {
   "cell_type": "markdown",
   "id": "21f4eb55",
   "metadata": {},
   "source": [
    "we directly linked the value to it's position."
   ]
  },
  {
   "cell_type": "code",
   "execution_count": 20,
   "id": "5b61f3d2",
   "metadata": {},
   "outputs": [
    {
     "name": "stdout",
     "output_type": "stream",
     "text": [
      "the student is from  SVECW college and from AI&DS department and it is in Bhimavaram.\n"
     ]
    }
   ],
   "source": [
    "data = \"the student is from  {name} college and from {branch} department and it is in {place}.\".format(name=\"SVECW\",branch=\"AI&DS\",place=\"Bhimavaram\")\n",
    "print(data)"
   ]
  },
  {
   "cell_type": "markdown",
   "id": "c2f90ac9",
   "metadata": {},
   "source": [
    "if we give the values and don't specify the positions then it takes in the default manner"
   ]
  },
  {
   "cell_type": "code",
   "execution_count": 22,
   "id": "39666046",
   "metadata": {},
   "outputs": [
    {
     "name": "stdout",
     "output_type": "stream",
     "text": [
      "the student is from  SVECW college and from AI&DS department and it is in Bhimavaram.\n"
     ]
    }
   ],
   "source": [
    "data = \"the student is from  {} college and from {} department and it is in {}.\".format(\"SVECW\",\"AI&DS\",\"Bhimavaram\")\n",
    "print(data)"
   ]
  },
  {
   "cell_type": "markdown",
   "id": "55bd6b0f",
   "metadata": {},
   "source": [
    "# DataTypes in Python"
   ]
  },
  {
   "cell_type": "markdown",
   "id": "af8768d6",
   "metadata": {},
   "source": [
    "The definition of datatypes is same as it is in other languages i.e, it is used to describe the characterstic of a variable.\n",
    "we have six datatypes in python:\n",
    "Numeric,String,List,Tuple,Set,Dictionary"
   ]
  },
  {
   "cell_type": "markdown",
   "id": "788d74fc",
   "metadata": {},
   "source": [
    "# Numeric"
   ]
  },
  {
   "cell_type": "markdown",
   "id": "59971ee1",
   "metadata": {},
   "source": [
    "In numeric it is further divided as int ,float,complex."
   ]
  },
  {
   "cell_type": "code",
   "execution_count": 25,
   "id": "d52a25f8",
   "metadata": {},
   "outputs": [
    {
     "name": "stdout",
     "output_type": "stream",
     "text": [
      "1234234556\n",
      "<class 'int'>\n"
     ]
    }
   ],
   "source": [
    "val = 1234234556\n",
    "print(val)\n",
    "print(type(val))"
   ]
  },
  {
   "cell_type": "code",
   "execution_count": 26,
   "id": "00cc1721",
   "metadata": {},
   "outputs": [
    {
     "name": "stdout",
     "output_type": "stream",
     "text": [
      "2415.345555\n",
      "<class 'float'>\n"
     ]
    }
   ],
   "source": [
    "val1 = 2415.345555\n",
    "print(val1)\n",
    "print(type(val1))"
   ]
  },
  {
   "cell_type": "code",
   "execution_count": 29,
   "id": "4858a404",
   "metadata": {},
   "outputs": [
    {
     "name": "stdout",
     "output_type": "stream",
     "text": [
      "(2+6j)\n",
      "<class 'complex'>\n"
     ]
    }
   ],
   "source": [
    "val3 = 2+6j\n",
    "print(val3)\n",
    "print(type(val3))"
   ]
  },
  {
   "cell_type": "markdown",
   "id": "0e34a690",
   "metadata": {},
   "source": [
    "# String"
   ]
  },
  {
   "cell_type": "markdown",
   "id": "f25b59df",
   "metadata": {},
   "source": [
    "String can be defined as a collection of characters. it can be either represented with single(') or double(\") quotes. Strings are immutable i.e, a string value can't be updated."
   ]
  },
  {
   "cell_type": "code",
   "execution_count": 31,
   "id": "51e8fba5",
   "metadata": {},
   "outputs": [
    {
     "name": "stdout",
     "output_type": "stream",
     "text": [
      "Python Programming\n"
     ]
    },
    {
     "ename": "TypeError",
     "evalue": "'str' object does not support item assignment",
     "output_type": "error",
     "traceback": [
      "\u001b[1;31m---------------------------------------------------------------------------\u001b[0m",
      "\u001b[1;31mTypeError\u001b[0m                                 Traceback (most recent call last)",
      "\u001b[1;32m<ipython-input-31-d3edcfeea85e>\u001b[0m in \u001b[0;36m<module>\u001b[1;34m\u001b[0m\n\u001b[0;32m      1\u001b[0m \u001b[0meg3\u001b[0m \u001b[1;33m=\u001b[0m \u001b[1;34m\"Python Programming\"\u001b[0m\u001b[1;33m\u001b[0m\u001b[1;33m\u001b[0m\u001b[0m\n\u001b[0;32m      2\u001b[0m \u001b[0mprint\u001b[0m\u001b[1;33m(\u001b[0m\u001b[0meg3\u001b[0m\u001b[1;33m)\u001b[0m\u001b[1;33m\u001b[0m\u001b[1;33m\u001b[0m\u001b[0m\n\u001b[1;32m----> 3\u001b[1;33m \u001b[0meg3\u001b[0m\u001b[1;33m[\u001b[0m\u001b[1;36m0\u001b[0m\u001b[1;33m]\u001b[0m \u001b[1;33m=\u001b[0m\u001b[1;34m\"p\"\u001b[0m \u001b[1;31m# it throws an error as strings are immutable.\u001b[0m\u001b[1;33m\u001b[0m\u001b[1;33m\u001b[0m\u001b[0m\n\u001b[0m\u001b[0;32m      4\u001b[0m \u001b[0mprint\u001b[0m\u001b[1;33m(\u001b[0m\u001b[0meg3\u001b[0m\u001b[1;33m)\u001b[0m\u001b[1;33m\u001b[0m\u001b[1;33m\u001b[0m\u001b[0m\n",
      "\u001b[1;31mTypeError\u001b[0m: 'str' object does not support item assignment"
     ]
    }
   ],
   "source": [
    "eg3 = \"Python Programming\"\n",
    "print(eg3)\n",
    "eg3[0] =\"p\" # it throws an error as strings are immutable.\n",
    "print(eg3)"
   ]
  },
  {
   "cell_type": "markdown",
   "id": "27cbfeb4",
   "metadata": {},
   "source": [
    "# Operations on Strings"
   ]
  },
  {
   "cell_type": "code",
   "execution_count": 32,
   "id": "b5743dfe",
   "metadata": {},
   "outputs": [
    {
     "name": "stdout",
     "output_type": "stream",
     "text": [
      "Hey guys!!Let's Learn Python\n"
     ]
    }
   ],
   "source": [
    "#concatenation -> it is a technique used to join two strings\n",
    "S1 =\"Hey guys!!\"\n",
    "S2 = \"Let's Learn Python.\"\n",
    "print(S1+S2)"
   ]
  },
  {
   "cell_type": "code",
   "execution_count": 33,
   "id": "d32a0153",
   "metadata": {},
   "outputs": [
    {
     "name": "stdout",
     "output_type": "stream",
     "text": [
      "PythonPythonPythonPythonPython\n"
     ]
    }
   ],
   "source": [
    "#repetition -> from the word itself we can say it is used for repetition\n",
    "S3 = \"Python\"\n",
    "print(S3*5)"
   ]
  },
  {
   "cell_type": "code",
   "execution_count": 39,
   "id": "8c310d89",
   "metadata": {},
   "outputs": [
    {
     "name": "stdout",
     "output_type": "stream",
     "text": [
      "Program\n",
      "age\n"
     ]
    }
   ],
   "source": [
    "\"\"\"slicing -> it is a techinque used to extract the specific portion from the strings.\n",
    "the index in strings starts from 0 and indexing can be done in positive or negative manner\"\"\"\n",
    "S4 = \"Programming Language\"\n",
    "print(S4[0:7])#to print from 0 to 6th position\n",
    "print(S4[-3:])# to print last 3 positions"
   ]
  },
  {
   "cell_type": "code",
   "execution_count": null,
   "id": "7305d1df",
   "metadata": {},
   "outputs": [],
   "source": []
  }
 ],
 "metadata": {
  "kernelspec": {
   "display_name": "Python 3",
   "language": "python",
   "name": "python3"
  },
  "language_info": {
   "codemirror_mode": {
    "name": "ipython",
    "version": 3
   },
   "file_extension": ".py",
   "mimetype": "text/x-python",
   "name": "python",
   "nbconvert_exporter": "python",
   "pygments_lexer": "ipython3",
   "version": "3.8.8"
  }
 },
 "nbformat": 4,
 "nbformat_minor": 5
}
